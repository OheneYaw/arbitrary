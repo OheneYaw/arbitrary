{
 "cells": [
  {
   "cell_type": "markdown",
   "metadata": {
    "id": "ocgXbD4lFhDp"
   },
   "source": [
    "**Mt. Fuji Paper Folding Problem"
   ]
  },
  {
   "cell_type": "code",
   "execution_count": 1,
   "metadata": {
    "colab": {
     "base_uri": "https://localhost:8080/"
    },
    "id": "Y1_2MBiE3jja",
    "outputId": "a1b06066-f106-4acc-f90d-554fdeba4d60"
   },
   "outputs": [
    {
     "name": "stdout",
     "output_type": "stream",
     "text": [
      "26\n"
     ]
    }
   ],
   "source": [
    "# Creating a function for Mt. Fuji\n",
    "Mount_Fuji = 3776\n",
    "Thickness = 0.00008\n",
    "\n",
    "def folds_exceed_height(height=1000, thickness=0.00008):\n",
    "    if height < thickness:\n",
    "        return 0\n",
    "    folded_thickness = 0\n",
    "    i = 0\n",
    "    while height > folded_thickness:\n",
    "        i += 1\n",
    "        folded_thickness = thickness * 2 ** i\n",
    "    return i\n",
    "print(folds_exceed_height(Mount_Fuji, Thickness))"
   ]
  },
  {
   "cell_type": "markdown",
   "metadata": {
    "id": "xtq63GkdGxf7"
   },
   "source": [
    "**Problem 2 -Arbirary Thickness"
   ]
  },
  {
   "cell_type": "code",
   "execution_count": 3,
   "metadata": {
    "colab": {
     "base_uri": "https://localhost:8080/"
    },
    "id": "Fynk7khs8jo2",
    "outputId": "62fa59d0-c2ce-46bd-8452-e9aad9f8ab8e"
   },
   "outputs": [
    {
     "name": "stdout",
     "output_type": "stream",
     "text": [
      "Enter the Distance Here: 50\n",
      "The number of folds for the Paper is:  19 Times\n"
     ]
    }
   ],
   "source": [
    " #Creating a function corresponding to an Arbitrary Thickness\n",
    " #This Program is set to allow input from the user of the program\n",
    "import math\n",
    "thickness = 0.00008\n",
    "def num_of_fold(distance):\n",
    "    num_of_fold = math.log(distance/thickness)/ math.log(2)\n",
    "    return num_of_fold\n",
    "num_of_fold = num_of_fold(distance = float(input(\"Enter the Distance Here: \")))\n",
    "print(\"The number of folds for the Paper is: \", round(num_of_fold), \"Times\")"
   ]
  },
  {
   "cell_type": "markdown",
   "metadata": {
    "id": "cXnqaPJVG7b3"
   },
   "source": [
    "Problem 2 - Closest non- sun Star"
   ]
  },
  {
   "cell_type": "code",
   "execution_count": 4,
   "metadata": {
    "colab": {
     "base_uri": "https://localhost:8080/"
    },
    "id": "loXHcxYi_abq",
    "outputId": "95566b68-8ee5-4319-f553-00725c5dfc41"
   },
   "outputs": [
    {
     "name": "stdout",
     "output_type": "stream",
     "text": [
      "The number of folds is:  59 times\n"
     ]
    }
   ],
   "source": [
    "#Proxima Centuri is the Closest star to earth with a distance of 40,208,000,000,000 km.\n",
    "import math\n",
    "thickness = 0.00008\n",
    "def num_of_fold(distance):\n",
    "    num_of_folds = math.log(distance/thickness)/ math.log(2)\n",
    "    return num_of_folds\n",
    "num_of_folds = num_of_fold(distance = 40208000000000)\n",
    "print(\"The number of folds is: \", round(num_of_folds), \"times\")"
   ]
  },
  {
   "cell_type": "markdown",
   "metadata": {
    "id": "LCZDtPKwHXSZ"
   },
   "source": [
    "Problem 3 - Required Paper Length"
   ]
  },
  {
   "cell_type": "code",
   "execution_count": null,
   "metadata": {
    "id": "oYDjvlc6DVRa"
   },
   "outputs": [],
   "source": [
    "import math\n",
    "\n",
    "def required_length(number_of_fold, thickness=0.00008):\n",
    "    length = (math.pi * thickness * (2**number_of_fold + 4) * (2**number_of_fold -1)) / 6\n",
    "    return int(length)\n",
    "\n",
    "print(required_length(\n",
    "    folds_exceed_height(Mount_Fuji, Thickness) #This is from the Previous Function\n",
    "))"
   ]
  },
  {
   "cell_type": "markdown",
   "metadata": {
    "id": "hK73Aer2Hoz8"
   },
   "source": [
    "Problem 3 - The length of the paper needed to reach the moon"
   ]
  },
  {
   "cell_type": "code",
   "execution_count": null,
   "metadata": {
    "colab": {
     "base_uri": "https://localhost:8080/"
    },
    "id": "KUV_WPaqGBZ6",
    "outputId": "041b99a6-fc11-4102-c20d-ce7e10cf8abf"
   },
   "outputs": [
    {
     "name": "stdout",
     "output_type": "stream",
     "text": [
      "3090781636525682\n"
     ]
    }
   ],
   "source": [
    "import math\n",
    "moon = 384400\n",
    "def required_length(number_of_fold, thickness=0.00008):\n",
    "    length = (math.pi * thickness * (2**number_of_fold + 4) * (2**number_of_fold -1)) / 6\n",
    "    return int(length)\n",
    "\n",
    "print(required_length(\n",
    "    folds_exceed_height(moon, Thickness) #This is from the Previous Function\n",
    "))"
   ]
  }
 ],
 "metadata": {
  "colab": {
   "collapsed_sections": [],
   "provenance": []
  },
  "kernelspec": {
   "display_name": "Python 3 (ipykernel)",
   "language": "python",
   "name": "python3"
  },
  "language_info": {
   "codemirror_mode": {
    "name": "ipython",
    "version": 3
   },
   "file_extension": ".py",
   "mimetype": "text/x-python",
   "name": "python",
   "nbconvert_exporter": "python",
   "pygments_lexer": "ipython3",
   "version": "3.9.12"
  }
 },
 "nbformat": 4,
 "nbformat_minor": 1
}
