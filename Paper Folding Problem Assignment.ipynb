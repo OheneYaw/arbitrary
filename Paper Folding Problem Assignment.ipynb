{
 "cells": [
  {
   "cell_type": "markdown",
   "id": "903e4f4f",
   "metadata": {},
   "source": [
    "For this assignment, you will create a program that calculates \n",
    "the thickness of a sheet of paper when it is folded 43 times.\n",
    "\n",
    "formula ====  $t_{43}$=$ t_{0}$ × $ 2^{43}$\n",
    "\n",
    "The thickness of the paper before folding, $ t_ {0} $ is 0.00008m."
   ]
  },
  {
   "cell_type": "markdown",
   "id": "2b8e928a",
   "metadata": {},
   "source": [
    "# [Problem 1 and Problem 2]"
   ]
  },
  {
   "cell_type": "markdown",
   "id": "9817a4f5",
   "metadata": {},
   "source": [
    ">1.Rewrite the code to calculate the thickness when the paper is folded 43 times.\n",
    ">2.convert the unit to 10,000 kilometer"
   ]
  },
  {
   "cell_type": "code",
   "execution_count": 1,
   "id": "96308e7a",
   "metadata": {},
   "outputs": [
    {
     "name": "stdout",
     "output_type": "stream",
     "text": [
      "Thickness: 703687441.77664 m.\n",
      "Thickness:  703687.44 km.\n"
     ]
    }
   ],
   "source": [
    "#Problem 1\n",
    "\n",
    "THICKNESS = 0.00008\n",
    "\n",
    "folded_thickness = THICKNESS * (2**43)   #when it folded 43 times\n",
    "print(\"Thickness: {} m.\" .format(folded_thickness)) # in meters\n",
    "\n",
    "#Problem 2\n",
    "\n",
    "print(\"Thickness: {: .2f} km.\" .format(folded_thickness/1000)) # in kilometers"
   ]
  },
  {
   "cell_type": "markdown",
   "id": "202f471b",
   "metadata": {},
   "source": [
    "# [Problem 3] Create using a for statement"
   ]
  },
  {
   "cell_type": "code",
   "execution_count": 3,
   "id": "bb759877",
   "metadata": {},
   "outputs": [
    {
     "name": "stdout",
     "output_type": "stream",
     "text": [
      "Thickness: 703687441.77664 m\n",
      "Thickness: 70368.74 km\n"
     ]
    }
   ],
   "source": [
    "def folded_thickness(nbr_folds):\n",
    "    THICKNESS = 0.00008\n",
    "    for i in range(nbr_folds):\n",
    "        THICKNESS *= 2\n",
    "   \n",
    "    return THICKNESS  # for meters\n",
    "\n",
    "print(\"Thickness: {} m\".format(folded_thickness(43)))\n",
    "\n",
    "print(\"Thickness: {:.2f} km\" .format(folded_thickness(43)/10000))#In kilometers"
   ]
  },
  {
   "cell_type": "markdown",
   "id": "817c97e4",
   "metadata": {},
   "source": [
    "# [Problem 4] Comparison of calculation time"
   ]
  },
  {
   "cell_type": "code",
   "execution_count": 4,
   "id": "1a5ccc19",
   "metadata": {},
   "outputs": [
    {
     "name": "stdout",
     "output_type": "stream",
     "text": [
      "Thickness: 703687441.77664 m\n",
      "Thickness: 70368.74 km\n",
      "Time: 0.0010073184967041016[s]\n"
     ]
    }
   ],
   "source": [
    "import time\n",
    "start = time.time()\n",
    "\n",
    "def folded_thickness(nbr_folds):\n",
    "    THICKNESS = 0.00008\n",
    "    for i in range(nbr_folds):\n",
    "        THICKNESS *= 2\n",
    "    # return THICKNESS for mm\n",
    "    return THICKNESS  # for meters\n",
    "\n",
    "print(\"Thickness: {} m\".format(folded_thickness(43)))\n",
    "\n",
    "print(\"Thickness: {:.2f} km\" .format(folded_thickness(43)/10000))#In kilometers\n",
    "\n",
    "elapsed_time = time.time() - start\n",
    "print(\"Time: {}[s]\" .format(elapsed_time))"
   ]
  },
  {
   "cell_type": "code",
   "execution_count": 2,
   "id": "7c171c5c",
   "metadata": {},
   "outputs": [
    {
     "name": "stdout",
     "output_type": "stream",
     "text": [
      "Thickness: 703687441.77664 m\n",
      "Thickness: 70368.74 km\n",
      "Time: 0.0028848648071289062[s]\n"
     ]
    }
   ],
   "source": [
    "%%timeit\n",
    "import time\n",
    "start = time.time()\n",
    "\n",
    "def folded_thickness(nbr_folds):\n",
    "    THICKNESS = 0.00008\n",
    "    for i in range(nbr_folds):\n",
    "        THICKNESS *= 2\n",
    "    # return THICKNESS for mm\n",
    "    return THICKNESS  # for meters\n",
    "\n",
    "print(\"Thickness: {} m\".format(folded_thickness(43)))\n",
    "\n",
    "print(\"Thickness: {:.2f} km\" .format(folded_thickness(43)/10000))#In kilometers\n",
    "\n",
    "elapsed_time = time.time() - start\n",
    "print(\"Time: {}[s]\" .format(elapsed_time))"
   ]
  },
  {
   "cell_type": "markdown",
   "id": "da4f4c5d",
   "metadata": {},
   "source": [
    "# [Problem 5] Saving to a list"
   ]
  },
  {
   "cell_type": "code",
   "execution_count": 14,
   "id": "accb5ef4",
   "metadata": {},
   "outputs": [
    {
     "name": "stdout",
     "output_type": "stream",
     "text": [
      "Length = 44\n",
      "[8e-05, 0.00016, 0.00032, 0.00064, 0.00128, 0.00256, 0.00512, 0.01024, 0.02048, 0.04096, 0.08192, 0.16384, 0.32768, 0.65536, 1.31072, 2.62144, 5.24288, 10.48576, 20.97152, 41.94304, 83.88608, 167.77216, 335.54432, 671.08864, 1342.17728, 2684.35456, 5368.70912, 10737.41824, 21474.83648, 42949.67296, 85899.34592, 171798.69184, 343597.38368, 687194.76736, 1374389.53472, 2748779.06944, 5497558.13888, 10995116.27776, 21990232.55552, 43980465.11104, 87960930.22208, 175921860.44416, 351843720.88832, 703687441.77664]\n",
      "Time: 0.002996206283569336[s]\n"
     ]
    }
   ],
   "source": [
    "import time\n",
    "start = time.time()\n",
    "\n",
    "import matplotlib.pyplot as plt\n",
    "%matplotlib inline\n",
    "\n",
    "\n",
    "THICKNESS = 0.00008\n",
    "exp = 1\n",
    "folded_thickness = 1\n",
    "emptyList = []    \n",
    "emptyList.append(THICKNESS)\n",
    "#nbr_f = input(\"Enter folds number: \")  # Accept input for the number of folds (43 times)\n",
    "#nbr = int(nbr_f)\n",
    "nbr = 43\n",
    "for i in range(nbr):\n",
    "    exp *= 2\n",
    "    folded_thickness = THICKNESS * exp\n",
    "    emptyList.append(folded_thickness)\n",
    "    \n",
    "#for n in emptyList:\n",
    "  # print(n)\n",
    "    \n",
    "print(\"Length =\",len(emptyList))    \n",
    "print(emptyList)\n",
    "\n",
    "elapsed_time = time.time() - start\n",
    "print(\"Time: {}[s]\" .format(elapsed_time))"
   ]
  },
  {
   "cell_type": "markdown",
   "id": "15fd6b16",
   "metadata": {},
   "source": [
    "# [Problem 6] Displaying a line graph"
   ]
  },
  {
   "cell_type": "code",
   "execution_count": 15,
   "id": "cc4d092f",
   "metadata": {},
   "outputs": [
    {
     "name": "stdout",
     "output_type": "stream",
     "text": [
      "Length = 44\n",
      "[8e-05, 0.00016, 0.00032, 0.00064, 0.00128, 0.00256, 0.00512, 0.01024, 0.02048, 0.04096, 0.08192, 0.16384, 0.32768, 0.65536, 1.31072, 2.62144, 5.24288, 10.48576, 20.97152, 41.94304, 83.88608, 167.77216, 335.54432, 671.08864, 1342.17728, 2684.35456, 5368.70912, 10737.41824, 21474.83648, 42949.67296, 85899.34592, 171798.69184, 343597.38368, 687194.76736, 1374389.53472, 2748779.06944, 5497558.13888, 10995116.27776, 21990232.55552, 43980465.11104, 87960930.22208, 175921860.44416, 351843720.88832, 703687441.77664]\n"
     ]
    },
    {
     "data": {
      "image/png": "[encoded data removed]",
      "text/plain": [
       "<Figure size 432x288 with 1 Axes>"
      ]
     },
     "metadata": {
      "needs_background": "light"
     },
     "output_type": "display_data"
    },
    {
     "name": "stdout",
     "output_type": "stream",
     "text": [
      "Time: 0.3336598873138428[s]\n"
     ]
    }
   ],
   "source": [
    "import time\n",
    "start = time.time()\n",
    "\n",
    "import matplotlib.pyplot as plt\n",
    "%matplotlib inline\n",
    "\n",
    "\n",
    "THICKNESS = 0.00008\n",
    "exp = 1\n",
    "folded_thickness = 1\n",
    "emptyList = []    \n",
    "emptyList.append(THICKNESS)\n",
    "#nbr_f = input(\"Enter folds number: \")  # Accept input for the number of folds (43 times)\n",
    "#nbr = int(nbr_f)\n",
    "nbr = 43\n",
    "for i in range(nbr):\n",
    "    exp *= 2\n",
    "    folded_thickness = THICKNESS * exp\n",
    "    emptyList.append(folded_thickness)\n",
    "    \n",
    "#for n in emptyList:\n",
    "  # print(n)\n",
    "    \n",
    "print(\"Length =\",len(emptyList))    \n",
    "print(emptyList)\n",
    "\n",
    "plt.title(\"thickness of folded paper\")\n",
    "plt.xlabel(\"number of folds\")\n",
    "plt.ylabel(\"thickness [m]\")\n",
    "plt.plot(emptyList)  # Enter the variable name of the list in \"List name\"\n",
    "plt.show()\n",
    "\n",
    "\n",
    "elapsed_time = time.time() - start\n",
    "print(\"Time: {}[s]\" .format(elapsed_time))"
   ]
  },
  {
   "cell_type": "markdown",
   "id": "c9224e36",
   "metadata": {},
   "source": [
    "# [Problem 7] Customizing graphs"
   ]
  },
  {
   "cell_type": "code",
   "execution_count": 16,
   "id": "c1a4023d",
   "metadata": {},
   "outputs": [
    {
     "name": "stdout",
     "output_type": "stream",
     "text": [
      "Length = 44\n",
      "[8e-05, 0.00016, 0.00032, 0.00064, 0.00128, 0.00256, 0.00512, 0.01024, 0.02048, 0.04096, 0.08192, 0.16384, 0.32768, 0.65536, 1.31072, 2.62144, 5.24288, 10.48576, 20.97152, 41.94304, 83.88608, 167.77216, 335.54432, 671.08864, 1342.17728, 2684.35456, 5368.70912, 10737.41824, 21474.83648, 42949.67296, 85899.34592, 171798.69184, 343597.38368, 687194.76736, 1374389.53472, 2748779.06944, 5497558.13888, 10995116.27776, 21990232.55552, 43980465.11104, 87960930.22208, 175921860.44416, 351843720.88832, 703687441.77664]\n"
     ]
    },
    {
     "data": {
      "image/png": "[encoded data removed]",
      "text/plain": [
       "<Figure size 432x288 with 1 Axes>"
      ]
     },
     "metadata": {
      "needs_background": "light"
     },
     "output_type": "display_data"
    },
    {
     "name": "stdout",
     "output_type": "stream",
     "text": [
      "Time: 0.3129448890686035[s]\n"
     ]
    }
   ],
   "source": [
    "import time\n",
    "start = time.time()\n",
    "\n",
    "import matplotlib.pyplot as plt\n",
    "%matplotlib inline\n",
    "\n",
    "\n",
    "THICKNESS = 0.00008\n",
    "exp = 1\n",
    "folded_thickness = 1\n",
    "emptyList = []    \n",
    "emptyList.append(THICKNESS)\n",
    "#nbr_f = input(\"Enter folds number: \")  # Accept input for the number of folds (43 times)\n",
    "#nbr = int(nbr_f)\n",
    "nbr = 43\n",
    "for i in range(nbr):\n",
    "    exp *= 2\n",
    "    folded_thickness = THICKNESS * exp\n",
    "    emptyList.append(folded_thickness)\n",
    "    \n",
    "#for n in emptyList:\n",
    "  # print(n)\n",
    "    \n",
    "print(\"Length =\",len(emptyList))    \n",
    "print(emptyList)\n",
    "\n",
    "plt.title(\"thickness of folded paper\")\n",
    "plt.xlabel(\"number of folds\")\n",
    "plt.ylabel(\"thickness [m]\")\n",
    "plt.plot(emptyList, c ='r')  # Enter the variable name of the list in \"List name\"\n",
    "plt.show()\n",
    "\n",
    "\n",
    "elapsed_time = time.time() - start\n",
    "print(\"Time: {}[s]\" .format(elapsed_time))"
   ]
  },
  {
   "cell_type": "markdown",
   "id": "b16d0c73",
   "metadata": {},
   "source": [
    ">Finishing work"
   ]
  },
  {
   "cell_type": "code",
   "execution_count": 19,
   "id": "ca27bb76",
   "metadata": {},
   "outputs": [
    {
     "name": "stdout",
     "output_type": "stream",
     "text": [
      "8e-05\n",
      "0.00016\n",
      "0.00032\n",
      "0.00064\n",
      "0.00128\n",
      "0.00256\n",
      "0.00512\n",
      "0.01024\n",
      "0.02048\n",
      "0.04096\n",
      "0.08192\n",
      "0.16384\n",
      "0.32768\n",
      "0.65536\n",
      "1.31072\n",
      "2.62144\n",
      "5.24288\n",
      "10.48576\n",
      "20.97152\n",
      "41.94304\n",
      "83.88608\n",
      "167.77216\n",
      "335.54432\n",
      "671.08864\n",
      "1342.17728\n",
      "2684.35456\n",
      "5368.70912\n",
      "10737.41824\n",
      "21474.83648\n",
      "42949.67296\n",
      "85899.34592\n",
      "171798.69184\n",
      "343597.38368\n",
      "687194.76736\n",
      "1374389.53472\n",
      "2748779.06944\n",
      "5497558.13888\n",
      "10995116.27776\n",
      "21990232.55552\n",
      "43980465.11104\n",
      "87960930.22208\n",
      "175921860.44416\n",
      "351843720.88832\n",
      "703687441.77664\n",
      "Length = 44\n",
      "[8e-05, 0.00016, 0.00032, 0.00064, 0.00128, 0.00256, 0.00512, 0.01024, 0.02048, 0.04096, 0.08192, 0.16384, 0.32768, 0.65536, 1.31072, 2.62144, 5.24288, 10.48576, 20.97152, 41.94304, 83.88608, 167.77216, 335.54432, 671.08864, 1342.17728, 2684.35456, 5368.70912, 10737.41824, 21474.83648, 42949.67296, 85899.34592, 171798.69184, 343597.38368, 687194.76736, 1374389.53472, 2748779.06944, 5497558.13888, 10995116.27776, 21990232.55552, 43980465.11104, 87960930.22208, 175921860.44416, 351843720.88832, 703687441.77664]\n"
     ]
    },
    {
     "data": {
      "image/png": "[encoded data removed]",
      "text/plain": [
       "<Figure size 432x288 with 1 Axes>"
      ]
     },
     "metadata": {
      "needs_background": "light"
     },
     "output_type": "display_data"
    },
    {
     "name": "stdout",
     "output_type": "stream",
     "text": [
      "Time: 0.302990198135376[s]\n"
     ]
    }
   ],
   "source": [
    "import time\n",
    "start = time.time()\n",
    "\n",
    "import matplotlib.pyplot as plt\n",
    "%matplotlib inline\n",
    "\n",
    "\n",
    "THICKNESS = 0.00008\n",
    "exp = 1\n",
    "folded_thickness = 1\n",
    "emptyList = []    \n",
    "emptyList.append(THICKNESS)\n",
    "#nbr_f = input(\"Enter folds number: \")  # Accept input for the number of folds (43 times)\n",
    "#nbr = int(nbr_f)\n",
    "nbr = 43\n",
    "for i in range(nbr):\n",
    "    exp *= 2\n",
    "    folded_thickness = THICKNESS * exp\n",
    "    emptyList.append(folded_thickness)\n",
    "    \n",
    "for n in emptyList:\n",
    "    print(n)\n",
    "    \n",
    "print(\"Length =\",len(emptyList))    \n",
    "print(emptyList)\n",
    "\n",
    "plt.title(\"thickness of folded paper\")\n",
    "plt.xlabel(\"number of folds\")\n",
    "plt.ylabel(\"thickness [m]\")\n",
    "plt.plot(emptyList, c ='g', lw = 4, ls = ':')  # Enter the variable name of the list in \"List name\"\n",
    "plt.tick_params(labelsize=20)\n",
    "plt.show()\n",
    "\n",
    "\n",
    "elapsed_time = time.time() - start\n",
    "print(\"Time: {}[s]\" .format(elapsed_time))"
   ]
  }
 ],
 "metadata": {
  "kernelspec": {
   "display_name": "Python 3 (ipykernel)",
   "language": "python",
   "name": "python3"
  },
  "language_info": {
   "codemirror_mode": {
    "name": "ipython",
    "version": 3
   },
   "file_extension": ".py",
   "mimetype": "text/x-python",
   "name": "python",
   "nbconvert_exporter": "python",
   "pygments_lexer": "ipython3",
   "version": "3.9.12"
  }
 },
 "nbformat": 4,
 "nbformat_minor": 5
}
